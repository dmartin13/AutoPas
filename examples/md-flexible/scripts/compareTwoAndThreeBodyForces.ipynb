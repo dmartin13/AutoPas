{
 "cells": [
  {
   "cell_type": "code",
   "execution_count": null,
   "metadata": {},
   "outputs": [],
   "source": [
    "import vtk\n",
    "import numpy as np\n",
    "import glob\n",
    "\n",
    "# The source file\n",
    "path = \"3BodyTestNoBoundaryMaxCutoffOutput/3BodyTestNoBoundaryMaxCutoff/data/\"\n",
    "\n",
    "files = glob.glob(path+'*.vtu')\n",
    "files.sort()\n",
    "\n",
    "allData = []\n",
    "\n",
    "for file in files:\n",
    "    reader = vtk.vtkXMLUnstructuredGridReader()\n",
    "    reader.SetFileName(file)\n",
    "    reader.Update()  # Needed because of GetScalarRange\n",
    "    output = reader.GetOutput()\n",
    "    forcesTwoBody = output.GetPointData().GetArray(\"forcesTwoBody\")\n",
    "    forcesThreeBody = output.GetPointData().GetArray(\"forcesThreeBody\")\n",
    "    ids = output.GetPointData().GetArray(\"ids\")\n",
    "\n",
    "\n",
    "    forcesTwoBodyArray = np.array(forcesTwoBody)\n",
    "    forcesThreeBodyArray = np.array(forcesThreeBody)\n",
    "    idsArray = np.array(ids)\n",
    "\n",
    "    zipped = list(zip(idsArray, forcesTwoBodyArray, forcesThreeBodyArray))\n",
    "\n",
    "    zipped.sort(key=lambda x: x[0])\n",
    "    #print(\"append\")\n",
    "    allData.append(zipped)\n",
    "\n",
    "for d in allData:\n",
    "    print(d)"
   ]
  }
 ],
 "metadata": {
  "language_info": {
   "name": "python"
  }
 },
 "nbformat": 4,
 "nbformat_minor": 2
}
